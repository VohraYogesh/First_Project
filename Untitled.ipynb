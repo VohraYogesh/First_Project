{
 "cells": [
  {
   "cell_type": "code",
   "execution_count": 73,
   "id": "0435eb25",
   "metadata": {},
   "outputs": [],
   "source": [
    "import pickle\n",
    "import os\n",
    "from collections import Counter"
   ]
  },
  {
   "cell_type": "code",
   "execution_count": 3,
   "id": "65edc81e",
   "metadata": {},
   "outputs": [],
   "source": [
    "path = \"C:/Users/yogevohr/project1/spam_classifier/emails/\""
   ]
  },
  {
   "cell_type": "code",
   "execution_count": 4,
   "id": "e8ece1f6",
   "metadata": {},
   "outputs": [],
   "source": [
    "Files=os.listdir(path)"
   ]
  },
  {
   "cell_type": "code",
   "execution_count": 5,
   "id": "615a09a3",
   "metadata": {},
   "outputs": [],
   "source": [
    "emails=[path+email for email in Files ]\n"
   ]
  },
  {
   "cell_type": "code",
   "execution_count": 6,
   "id": "f9fd1bab",
   "metadata": {},
   "outputs": [],
   "source": [
    "words=[]"
   ]
  },
  {
   "cell_type": "code",
   "execution_count": 7,
   "id": "1e8c616b",
   "metadata": {},
   "outputs": [
    {
     "name": "stdout",
     "output_type": "stream",
     "text": [
      "3012\n"
     ]
    }
   ],
   "source": [
    "c=len(emails)\n",
    "print(c)\n",
    "      \n",
    "    "
   ]
  },
  {
   "cell_type": "code",
   "execution_count": 8,
   "id": "d6c64c5f",
   "metadata": {},
   "outputs": [],
   "source": [
    "for email in emails:\n",
    "    with open(email,encoding=\"ISO-8859-1\") as f:\n",
    "        text=f.read()\n",
    "    words +=text.split(\" \")\n"
   ]
  },
  {
   "cell_type": "code",
   "execution_count": 9,
   "id": "e4272e6c",
   "metadata": {},
   "outputs": [
    {
     "name": "stdout",
     "output_type": "stream",
     "text": [
      "with\n"
     ]
    }
   ],
   "source": [
    "print(words[2]) "
   ]
  },
  {
   "cell_type": "code",
   "execution_count": 10,
   "id": "c3ebd14a",
   "metadata": {},
   "outputs": [],
   "source": [
    "# we are starting data processing\n",
    "for i in range(len(words)):\n",
    "  #  if  words[i].isalpha():\n",
    "   #     print (words[i])\n",
    "      \n",
    "    if not words[i].isalpha():\n",
    "       # print (words[i])\n",
    "        words[i]=\"\"\n",
    "    "
   ]
  },
  {
   "cell_type": "code",
   "execution_count": 11,
   "id": "f6009f4e",
   "metadata": {},
   "outputs": [],
   "source": [
    "dictionary=Counter(words)\n",
    "del dictionary[\"\"]\n",
    "d=dictionary.most_common(1000)"
   ]
  },
  {
   "cell_type": "code",
   "execution_count": 36,
   "id": "ccf9eb0b",
   "metadata": {},
   "outputs": [],
   "source": [
    "# Process of classfing input and the corresponding output:\n",
    "x=[]\n",
    "y=[]\n",
    "\n",
    "for email in emails:\n",
    "    data=[]\n",
    "    with open(email,encoding=\"ISO-8859-1\") as f:\n",
    "        words=f.read().split(\" \")\n",
    "    for entry in d:\n",
    "     data.append(words.count(entry[0]))\n",
    "    x.append(data)\n",
    "    if \"ham\" in email:\n",
    "        y.append(0)\n",
    "    elif \"spam\" in email:\n",
    "        y.append(1)"
   ]
  },
  {
   "cell_type": "code",
   "execution_count": 37,
   "id": "de4225ef",
   "metadata": {},
   "outputs": [
    {
     "name": "stdout",
     "output_type": "stream",
     "text": [
      "1\n",
      "3012\n",
      "3012\n"
     ]
    }
   ],
   "source": [
    "#print(x[0])\n",
    "print(y[0])\n",
    "print(len(x))\n",
    "print(len(y))"
   ]
  },
  {
   "cell_type": "code",
   "execution_count": 38,
   "id": "9e021db3",
   "metadata": {},
   "outputs": [],
   "source": [
    "#machine learning part:\n",
    "from sklearn.model_selection import train_test_split as tts"
   ]
  },
  {
   "cell_type": "code",
   "execution_count": 39,
   "id": "4e43ae07",
   "metadata": {},
   "outputs": [],
   "source": [
    "#we are splitting data for training and testing\n",
    "x_train, x_test, y_train, y_test=tts(x,y,test_size=0.2)"
   ]
  },
  {
   "cell_type": "code",
   "execution_count": 40,
   "id": "6a36a481",
   "metadata": {},
   "outputs": [],
   "source": [
    "from sklearn.naive_bayes import MultinomialNB"
   ]
  },
  {
   "cell_type": "code",
   "execution_count": 41,
   "id": "6fd9bb9b",
   "metadata": {},
   "outputs": [
    {
     "data": {
      "text/plain": [
       "MultinomialNB()"
      ]
     },
     "execution_count": 41,
     "metadata": {},
     "output_type": "execute_result"
    }
   ],
   "source": [
    "clf = MultinomialNB()\n",
    "clf.fit(x_train, y_train)"
   ]
  },
  {
   "cell_type": "code",
   "execution_count": 58,
   "id": "b6503e9f",
   "metadata": {},
   "outputs": [],
   "source": [
    "preds = clf.predict(x_test)"
   ]
  },
  {
   "cell_type": "code",
   "execution_count": 59,
   "id": "04687c4c",
   "metadata": {},
   "outputs": [
    {
     "name": "stdout",
     "output_type": "stream",
     "text": [
      "0.9286898839137645\n"
     ]
    }
   ],
   "source": [
    "from sklearn.metrics import accuracy_score\n",
    "print(accuracy_score(y_test, preds))"
   ]
  },
  {
   "cell_type": "code",
   "execution_count": 65,
   "id": "a7cd3fbb",
   "metadata": {},
   "outputs": [
    {
     "name": "stdout",
     "output_type": "stream",
     "text": [
      "['>']hi this is spam\n"
     ]
    }
   ],
   "source": [
    "test=[]\n",
    "inp= input(\">\".split())\n",
    "for word in d:\n",
    "    test.append(inp.count(word[0]))"
   ]
  },
  {
   "cell_type": "code",
   "execution_count": 70,
   "id": "2cf9213d",
   "metadata": {},
   "outputs": [
    {
     "name": "stdout",
     "output_type": "stream",
     "text": [
      "[1]\n"
     ]
    }
   ],
   "source": [
    "result=clf.predict([test])\n",
    "print(result)"
   ]
  },
  {
   "cell_type": "code",
   "execution_count": 72,
   "id": "f98de419",
   "metadata": {},
   "outputs": [
    {
     "name": "stdout",
     "output_type": "stream",
     "text": [
      "spam_email\n"
     ]
    }
   ],
   "source": [
    "if result==1:\n",
    "    print(\"spam_email\")\n",
    "else:\n",
    "    print(\"ham_email\") "
   ]
  },
  {
   "cell_type": "code",
   "execution_count": 74,
   "id": "44cfa1a0",
   "metadata": {},
   "outputs": [],
   "source": [
    "pickle.dump(clf,open('spam.pkl','wb'))"
   ]
  },
  {
   "cell_type": "code",
   "execution_count": null,
   "id": "18aa84ec",
   "metadata": {},
   "outputs": [],
   "source": []
  }
 ],
 "metadata": {
  "kernelspec": {
   "display_name": "Python 3 (ipykernel)",
   "language": "python",
   "name": "python3"
  },
  "language_info": {
   "codemirror_mode": {
    "name": "ipython",
    "version": 3
   },
   "file_extension": ".py",
   "mimetype": "text/x-python",
   "name": "python",
   "nbconvert_exporter": "python",
   "pygments_lexer": "ipython3",
   "version": "3.9.7"
  }
 },
 "nbformat": 4,
 "nbformat_minor": 5
}
